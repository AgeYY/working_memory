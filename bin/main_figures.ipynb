{
 "cells": [
  {
   "cell_type": "code",
   "execution_count": null,
   "metadata": {
    "id": "aGBRO05bzf7n"
   },
   "outputs": [],
   "source": [
    "import os\n",
    "# make sure you are under the bin/ folder when running the code"
   ]
  },
  {
   "cell_type": "code",
   "execution_count": null,
   "metadata": {
    "id": "Jh5DltBkzf7o"
   },
   "outputs": [],
   "source": [
    "# Training models, models with sigma_s = 3, 25, and 90 degree are essential to reproduce the main result of the paper.\n",
    "# Alternatively, download models in https://wustl.app.box.com/file/964118053859?s=3xnt37fddxelvio2fztlawyieatf2agq\n",
    "# The trained/downloaded models shoud be put in /core/model/\n",
    "\n",
    "imp_sig = [3.0, 25.0, 90.0]\n",
    "n_thread = 2; n_model = 2;\n",
    "for sig in imp_sig:\n",
    "    os.system('mpiexec -n ' + str(n_thread) + ' python train_cluster.py --sig_s ' + str(round(sig, 1)) + \\\n",
    "    ' --n_model ' + str(n_model))"
   ]
  },
  {
   "cell_type": "code",
   "execution_count": null,
   "metadata": {
    "id": "mhywIz7rzf7p"
   },
   "outputs": [],
   "source": [
    "######## Reproducing Figure 1\n",
    "\n",
    "#### Fig. 1C, RNNs memory error distribution. The code visualizes the memory error distribution of trained Biased RNNs, \n",
    "#### aggregating data across 50 RNNs to depict the probability density of memory errors for 2 different delay lengths.\n",
    "os.system(\"python ../bin/figs/gaussian_error_group.py\")\n",
    "\n",
    "#### Fig. 1D, the RNNs' output color distribution\n",
    "os.system(\"python ../bin/figs/report_dist.py\")\n",
    "\n",
    "#### Fig. 1E visualizes the relationship between output color - input color and input color for 2 different delay lengths, including error bands and regression lines.\n",
    "os.system(\"python ../bin/figs/bias_around_common_group.py\")"
   ]
  },
  {
   "cell_type": "code",
   "execution_count": null,
   "metadata": {},
   "outputs": [],
   "source": [
    "######## Reproducing Figure 2\n",
    "\n",
    "#### Fig. 2A compares the memory errors of RNNs (Biased and Uniform) on common colors using root-mean-squared error (RMSE) over 5,000 trials, \n",
    "#### with statistical analysis to highlight significant differences.\n",
    "os.system(\"python ../bin/figs/memory_error_uniform_bias.py\")\n",
    "\n",
    "#### Fig. 2B, illustrates the cross-decoding results of RNN states, comparing memory errors across different combinations of delay and decode part of RNNs (biased vs. uniform), \n",
    "#### with statistical tests to highlight significant differences.\n",
    "os.system(\"python ../bin/figs/decode_by_another_rnn.py\")\n"
   ]
  },
  {
   "cell_type": "code",
   "execution_count": null,
   "metadata": {
    "id": "RFDLjX4Nzf7p"
   },
   "outputs": [],
   "source": [
    "######## Reproducing Figure 3\n",
    "sigma_s = 90.0\n",
    "rule_name = \"color_reproduction_delay_unit\"\n",
    "model_dir = \"../core/model/model_\"+str(sigma_s)+\"/color_reproduction_delay_unit/\"\n",
    "gen_data = 'Y' # generate figure data\n",
    "sub_dir = \"model_0/noise_delta\"\n",
    "prod_interval = 800\n",
    "\n",
    "#### Fig. 3A visualizes the cumulative explained variance ratio for the principal components of neural activity \n",
    "#### across both Uniform (σ_s=90) and Biased (σ_s=12.5) RNNs, highlighting the dimensionality of neural representations during full trials and delay epochs.\n",
    "#### The figure is saved at \"bin/figs/fig_collect/pca_explained.pdf\"\n",
    "os.system('python ./figs/pca_explained.py ') \n",
    "\n",
    "#### Fig. 3B visualizes the 3D PCA trajectories of neural states across different epochs for RNNs. \n",
    "#### The output files for each epoch are saved as bin/figs/fig_collect/manifold_{epoch name}.pdf. \n",
    "#### Modify model_dir to analyze manifolds for different σ_s values.\n",
    "os.system('python ./figs/manifold.py ' + model_dir + ' ' + rule_name + ' ' + sub_dir + ' ' + gen_data)  # output directory: bin/figs/fig_collect/manifold_{epoch name}.pdf. Please change model_dir to get manifold for different sigma_s\n",
    "\n",
    "#### Fig. 3C visualizes the 2D PCA projections of neural states in the delay epoch for an RNN.  \n",
    "#### The output files for different epochs are saved at \"bin/figs/fig_collect/manifold_2d_{sigma_s}_delay_{prod_interval}_{epoch name}.pdf\"\n",
    "#### Modify model_dir, sub_dir, and prod_interval to explore other configurations.\n",
    "os.system('python ./figs/manifold_2d.py' + ' --model_dir ' + model_dir + ' --sub_dir ' + sub_dir + ' --prod_interval ' + str(prod_interval) + ' --file_label ' + str(sigma_s) + '_delay_' + str(prod_interval))\n",
    "\n",
    "#### Fig. 3D visualizes the distribution of attractors in biased and uniform RNNs. \n",
    "#### Figures saved as \"bin/figs/fig_collect/att_dis_{sigma_s}.svg\" \n",
    "#### Modify model_dir and sub_dir to analyze different configurations.\n",
    "gen_data = 'True'\n",
    "sub_dir = \"/noise_delta\"\n",
    "os.system('python ./figs/fix_point_batch_cluster.py' + ' --model_dir ' + model_dir + ' --sub_dir ' + sub_dir + ' --prod_interval ' + str(prod_interval) + ' --file_label ' + str(sigma_s) + ' --gen_data ' + gen_data)\n",
    "\n",
    "#### Fig. 3E calculates and visualizes dynamic dispersion in biased and uniform RNNs. \n",
    "#### The results are saved as \"bin/figs/fig_collect/dynamic_dispersion_uniform_bias.svg\".\n",
    "os.system(\"python ../bin/figs/dynamic_dispersion_uniform_bias.py\")  \n",
    "\n",
    "#### Fig. 3G visualizes decoded colors in PCA space for an RNN. \n",
    "#### The figure is saved as \"bin/figs/fig_collect/decode_vel_plane_{sigma_s}.png\". \n",
    "#### Modify model_dir and sub_dir for different RNN configurations.\n",
    "os.system('python ../bin/figs/decode_vel_state.py' + ' --model_dir ' + model_dir + ' --sub_dir ' + sub_dir + ' --file_label ' + str(sigma_s)) # output directory: bin/figs/fig_collect/decode_vel_plane_{sigma_s}.png\n",
    "\n",
    "#### Fig. 3H Fig. 3H analyzes angular occupancy examples for RNNs. \n",
    "#### The results are saved at \"bin/figs/fig_collect/angle_occupation_{prior_sigma}.svg\". \n",
    "#### Modify model_dir, rule_name, and sub_dir for different configurations.\n",
    "os.system('python ../bin/figs/encode_space.py ' + model_dir + ' ' + rule_name + ' ' + sub_dir + ' ' + gen_data + ' ' + \"./figs/fig_collect/angle_occupation_\" + str(sigma_s))  # output directory: bin/figs/fig_collect/angle_occupation_{prior_sigma}.svg\n",
    "\n",
    "#### Fig. 3I IFig. 3I illustrates the dynamic dispersion and angular occupancy for the specified RNN configuration. \n",
    "#### Results are saved at \"bin/figs/fig_collect/combine_{model_name}.pdf\".\n",
    "model_name = str(sigma_s)\n",
    "os.system('python ./figs/combine_state_multi-trials.py' + ' --model_dir ' + model_dir + ' --sub_dir ' + sub_dir + ' --file_label ' + model_name)  # output directory: bin/'./figs/fig_collect/combine_{model_name}.png'\n"
   ]
  },
  {
   "cell_type": "code",
   "execution_count": null,
   "metadata": {
    "id": "9hwaQK9Kzf7p"
   },
   "outputs": [],
   "source": [
    "######## Figure 4\n",
    "\n",
    "#### Fig. 4B-E Compare the experimental results and theoretical predictions\n",
    "#### The output figures are saved in the following locations:\n",
    "#### Dynamic Dispersion: \"bin/figs/fig_collect/dynamic_dispersion_common.svg\"\n",
    "#### Squared Reciprocal of Angular Occupancy: \"bin/figs/fig_collect/color_density_common.svg\"\n",
    "#### Mean Bias Correction: \"bin/figs/fig_collect/mean_bias_common.svg\"\n",
    "#### Memory Error Comparison: \"bin/figs/fig_collect/experiment_theory_comparision.svg\".\n",
    "os.system(\"python ../bin/figs/experiment_theory.py\")\n"
   ]
  },
  {
   "cell_type": "code",
   "execution_count": null,
   "metadata": {
    "id": "MUmyqymrzf7p"
   },
   "outputs": [],
   "source": [
    "######## Figure 5\n",
    "\n",
    "#### Fig. 5A-D is similar to Fig. 4, but remember to change the model directory to '../core/model_noise/noise_{n}/model_17.5/color_reproduction_delay_unit/'\n",
    "#### which contains models trained with sigma_s = 17.5 but varing noise from 0.10 to 0.30\n",
    "\n",
    "#### Fig. 5 E - H visualize the dynamic dispersion, angular occupancy, and memory error under different noise levels\n",
    "#### Output directories:\n",
    "#### Dynamic Dispersion: “./figs/fig_collect/dynamic_dispersion_common_noise.svg”.\n",
    "#### Squared Reciprocal of Angular Occupancy: \"./figs/fig_collect/color_density_common_noise.svg\".\n",
    "#### Mean Bias Correction: \"./figs/fig_collect/mean_bias_noise.svg\".\n",
    "#### Memory Error Comparison: \"./figs/fig_collect/exp_theo_comparison_noise.svg\".\n",
    "os.system(\"python ../bin/figs/experiment_theory_noise01to0.3.py\")\n",
    "\n",
    "#### Fig. 5I illustrates memory error across models with different noise strengths.\n",
    "# The output figure is saved at: \"bin/figs/fig_collect/memory_error_all_noise.svg\".\n",
    "os.system(\"python ../bin/figs/memory_error_noise.py\")  \n"
   ]
  },
  {
   "cell_type": "code",
   "execution_count": null,
   "metadata": {
    "id": "NL9tAekNzf7p"
   },
   "outputs": [],
   "source": [
    "######## Figure 6\n",
    "\n",
    "#### Fig. 6 B & D (Left boxes) generates visualizations of neural state dynamics during the go epoch and response epoch.\n",
    "#### Output Directories:\n",
    "#### Neural states at the start and end of the go epoch: \"bin/figs/fig_collect/go_start_end_plane.svg\".\n",
    "#### Neural states at the start and average of the response epoch: \"bin/figs/fig_collect/res_start_end_plane.svg\".\n",
    "os.system(\"python ../bin/figs/eg_go_response_plane_figure.py\")\n",
    "\n",
    "#### Fig. 6 B & D (right histogram): Entropy of the neuron states\n",
    "#### Output Directories: \"bin/figs/fig_collect/drift_{evolve period name}.svg\" (evolving period name can be 'response' or 'go_cue')\n",
    "os.system(\"python ../bin/figs/go_response_drift.py\")  \n",
    "\n",
    "#### Fig. 6 C, E: Entropy of the neuron states across different priors \n",
    "#### Output directory: \"bin/figs/fig_collect/drift_entropy_{evolve period name}_sigmas.svg\" (evolving period name can be 'response' or 'go_cue')\n",
    "os.system(\"python ../bin/figs/go_response_drift_sigmas.py\")  \n",
    "\n",
    "#### Fig. 6G illustrates the decoded response plane for an example RNN.\n",
    "#### Output directory: \"bin/figs/fig_collect/decode_color_response_{prior_sigma}.png\".\n",
    "os.system(\"python ../bin/figs/readout_decode_response_plane.py\")  \n",
    "\n",
    "#### Fig. 6H calculates and visualizes the angular occupancy in the response plane for RNNs trained with a prior sigma_s=3.0\n",
    "#### Output directory: bin/figs/fig_collect/AO_response_{prior_sigma}.png\n",
    "os.system(\"python ../bin/figs/readout_angular_occupancy_eg.py\")  \n",
    "\n",
    "#### Fig. 6I calculates and plots the entropy of angular occupancy across different priors\n",
    "#### Output directory: bin/figs/fig_collect/AO_entropy_response_sigmas.svg\n",
    "os.system(\"python ../bin/figs/readout_angular_occupancy_entropy_sigmas.py\")  "
   ]
  }
 ],
 "metadata": {
  "colab": {
   "provenance": [
    {
     "file_id": "1bJgINRXk3K9Iv2XAU8h63bjF_6S8YVRN",
     "timestamp": 1712180289490
    }
   ]
  },
  "kernelspec": {
   "display_name": "Python 3 (ipykernel)",
   "language": "python",
   "name": "python3"
  },
  "language_info": {
   "codemirror_mode": {
    "name": "ipython",
    "version": 3
   },
   "file_extension": ".py",
   "mimetype": "text/x-python",
   "name": "python",
   "nbconvert_exporter": "python",
   "pygments_lexer": "ipython3",
   "version": "3.8.13"
  }
 },
 "nbformat": 4,
 "nbformat_minor": 1
}
