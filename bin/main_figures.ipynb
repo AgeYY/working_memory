{
 "cells": [
  {
   "cell_type": "code",
   "execution_count": 1,
   "metadata": {},
   "outputs": [],
   "source": [
    "import os"
   ]
  },
  {
   "cell_type": "code",
   "execution_count": null,
   "metadata": {},
   "outputs": [],
   "source": [
    "# Training models, models with sigma_s = 3, 25, and 90 degree are essential to reproduce the main result of the paper.\n",
    "# Alternatively, download models in https://wustl.app.box.com/file/964118053859?s=3xnt37fddxelvio2fztlawyieatf2agq\n",
    "# The trained/downloaded models will/should be in /core/model/\n",
    "\n",
    "imp_sig = [3.0, 25.0, 90.0]\n",
    "n_thread = 2; n_model = 2;\n",
    "for sig in imp_sig:\n",
    "    os.system('mpiexec -n ' + str(n_thread) + ' python train_cluster.py --sig_s ' + str(round(sig, 1)) + \\\n",
    "    ' --n_model ' + str(n_model))"
   ]
  },
  {
   "cell_type": "code",
   "execution_count": null,
   "metadata": {},
   "outputs": [],
   "source": [
    "######## Reproducing Figure 1\n",
    "\n",
    "#### Fig. 2A \n",
    "os.system(\"python ../bin/figs/memory_error_uniform_bias.py\")  # output directory: bin/figs/fig_collect/memory_error_uniform_bias.svg\n",
    "\n",
    "#### Fig. 2B The prior distribution of colors around a common color and memory error for various input colors\n",
    "os.system(\"python ../bin/figs/single_bias_error_dis.py\")  # output directory: bin/figs/fig_collect/single_bias_error_dis.svg\n",
    "\n",
    "#### Fig. 2C Cross decoding\n",
    "os.system(\"python ../bin/figs/decode_by_another_rnn.py\")  # output directory: bin/figs/fig_collect/cross_decoding.svg\n"
   ]
  },
  {
   "cell_type": "code",
   "execution_count": null,
   "metadata": {},
   "outputs": [],
   "source": [
    "######## Reproducing Figure 4\n",
    "sigma_s = 90.0\n",
    "rule_name = \"color_reproduction_delay_unit\"\n",
    "model_dir = \"../core/model/model_\"+str(sigma_s)+\"/color_reproduction_delay_unit/\"\n",
    "gen_data = 'Y' # generate figure data\n",
    "sub_dir = \"model_0/noise_delta\"\n",
    "prod_interval = 1000\n",
    "\n",
    "#### Fig. 4A Cummulative explained ratio\n",
    "os.system('python ./figs/pca_explained.py ' + model_dir + ' ' + rule_name + ' ' + sub_dir + ' ' + gen_data) # output directory: bin/figs/fig_collect/pca_explained.pdf\n",
    "\n",
    "#### Fig. 4B Manifold 3D\n",
    "os.system('python ./figs/manifold.py ' + model_dir + ' ' + rule_name + ' ' + sub_dir + ' ' + gen_data)  # output directory: bin/figs/fig_collect/manifold_{epoch name}.pdf\n",
    "\n",
    "#### Fig. 4C Manifold 2D in delay epoch\n",
    "os.system('python ./figs/manifold_2d.py' + ' --model_dir ' + model_dir + ' --sub_dir ' + sub_dir + ' --prod_interval ' + str(prod_interval) + ' --file_label ' + str(sigma_s) + '_delay_' + str(prod_interval))\n",
    "# output directory: bin/figs/fig_collect/manifold_2d_{sigma_s}_delay_{prod_interval}_{epoch name}.pdf\n",
    "\n",
    "#### Fig. 4D Distribution of attractors in biased and uniform RNNs\n",
    "gen_data = 'True'\n",
    "sub_dir = \"/noise_delta\"\n",
    "os.system('python ./figs/fix_point_batch_cluster.py' + ' --model_dir ' + model_dir + ' --sub_dir ' + sub_dir + ' --prod_interval ' + str(prod_interval) + ' --file_label ' + str(sigma_s) + ' --gen_data ' + gen_data)\n",
    "# output directory: bin/figs/fig_collect/att_dis_{sigma_s}.svg\n",
    "\n",
    "#### Fig. 4E Dynamic dispersion in biased and uniform RNNs\n",
    "os.system(\"python ../bin/figs/dynamic_dispersion_uniform_bias.py\")  # output directory: bin/figs/fig_collect/dynamic_dispersion_uniform_bias.svg\n",
    "\n",
    "#### Fig. 4G Decoded colors\n",
    "os.system('python ../bin/figs/decode_vel_state.py' + ' --model_dir ' + model_dir + ' --sub_dir ' + sub_dir + ' --file_label ' + str(sigma_s)) # output directory: bin/figs/fig_collect/decode_vel_plane_{sigma_s}.png\n",
    "\n",
    "#### Fig. 4H Angular occupancy examples\n",
    "os.system('python ../bin/figs/encode_space.py ' + model_dir + ' ' + rule_name + ' ' + sub_dir + ' ' + gen_data + ' ' + \"./figs/fig_collect/angle_occupation_\" + str(sigma_s))  # output directory: bin/figs/fig_collect/angle_occupation_{prior_sigma}.svg\n",
    "\n",
    "#### Fig. 4I Illustration of dynaic dispersion & angular occupancy\n",
    "model_name = str(sigma_s)\n",
    "os.system('python ./figs/combine_state_multi-trials.py' + ' --model_dir ' + model_dir + ' --sub_dir ' + sub_dir + ' --file_label ' + model_name)  # output directory: bin/'./figs/fig_collect/combine_{model_name}.png'\n"
   ]
  },
  {
   "cell_type": "code",
   "execution_count": null,
   "metadata": {},
   "outputs": [],
   "source": [
    "######## Figure 5\n",
    "\n",
    "#### Fig. 5B-E Comparsion of experimental results and theory\n",
    "os.system(\"python ../bin/figs/experiment_theory.py\")\n",
    "\n",
    "# output directory:\n",
    "# bin/figs/fig_collect/dynamic_dispersion_common.svg\n",
    "# bin/figs/fig_collect/color_density_common.svg\n",
    "# bin/figs/fig_collect/mean_bias_common.svg\n",
    "# bin/figs/fig_collect/experiment_theory_comparision.svg"
   ]
  },
  {
   "cell_type": "code",
   "execution_count": null,
   "metadata": {},
   "outputs": [],
   "source": [
    "######## Figure 6\n",
    "\n",
    "#### Fig. 6B Angular occupancy of original and noisy model\n",
    "# change model directory to '../core/model_noise/noise_{n}/model_17.5/color_reproduction_delay_unit/' n=0.10 for low noise and n=0.30 for high noise\n",
    "os.system(\"python ../bin/figs/readout_angular_occupancy_eg.py\")  # output directory: bin/figs/fig_collect/AO_response_{prior_sigma}.png\n",
    "\n",
    "#### Fig. 6C Neural dynamic during delay\n",
    "rule_name = \"color_reproduction_delay_unit\"\n",
    "noise = 0.30\n",
    "model_dir = \"../core/model_noise/noise_{:.2f}/model_17.5/color_reproduction_delay_unit/\".format(noise)\n",
    "gen_data = 'Y' # generate figure data\n",
    "sub_dir = \"model_0/noise_delta\"\n",
    "prod_interval = 800\n",
    "os.system('python ./figs/fix_point_ring.py' + ' --model_dir ' + model_dir + ' --sub_dir ' + sub_dir + ' --prod_interval ' + str(prod_interval) + ' --file_label ' + \"noise_{:.2f}\".format(noise) + ' --gen_data ' + gen_data)\n",
    "\n",
    "#### Fig. 6 E - H\n",
    "os.system(\"python ../bin/figs/experiment_theory_noise01to0.3.py\")\n",
    "\n",
    "#### Fig. 6I memory error for models with various noise\n",
    "os.system(\"python ../bin/figs/memory_error_noise.py\")  # output directory: bin/figs/fig_collect/memory_error_all_noise.svg\n"
   ]
  },
  {
   "cell_type": "code",
   "execution_count": null,
   "metadata": {},
   "outputs": [],
   "source": [
    "######## Figure 7\n",
    "\n",
    "#### Fig. 7 B, D\n",
    "os.system(\"python ../bin/figs/eg_go_response_plane_figure.py\")  # output directory: bin/figs/fig_collect/go_start_end_plane.svg & res_start_end_plane.svg\n",
    "os.system(\"python ../bin/figs/go_response_drift.py\")  # output directory: bin/figs/fig_collect/drift_{period name}.svg' (period name can be 'response' or 'interval')\n",
    "\n",
    "#### Fig. 7 C, E\n",
    "os.system(\"python ../bin/figs/go_response_drift_sigmas.py\")  # output directory: bin/figs/fig_collect/drift_entropy_{period name}_sigmas.svg' (period name can be 'response' or 'interval')\n",
    "\n",
    "#### Fig. 7G Decoded reponse plane\n",
    "os.system(\"python ../bin/figs/readout_decode_response_plane.py\")  # output directory: bin/figs/fig_collect/decode_color_response_{prior_sigma}.png\n",
    "\n",
    "#### Fig. 7H Angular occupancy examples\n",
    "os.system(\"python ../bin/figs/readout_angular_occupancy_eg.py\")  # output directory: bin/figs/fig_collect/AO_response_{prior_sigma}.png\n",
    "\n",
    "#### Fig. 7I\n",
    "os.system(\"python ../bin/figs/readout_angular_occupancy_entropy_sigmas.py\")  # output directory: bin/figs/fig_collect/AO_entropy_response_sigmas.svg"
   ]
  }
 ],
 "metadata": {
  "kernelspec": {
   "display_name": "Python 3 (ipykernel)",
   "language": "python",
   "name": "python3"
  },
  "language_info": {
   "codemirror_mode": {
    "name": "ipython",
    "version": 3
   },
   "file_extension": ".py",
   "mimetype": "text/x-python",
   "name": "python",
   "nbconvert_exporter": "python",
   "pygments_lexer": "ipython3",
   "version": "3.8.8"
  }
 },
 "nbformat": 4,
 "nbformat_minor": 4
}
