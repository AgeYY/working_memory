{
 "cells": [
  {
   "cell_type": "code",
   "execution_count": 2,
   "id": "ebfb9fd3",
   "metadata": {},
   "outputs": [],
   "source": [
    "import os"
   ]
  },
  {
   "cell_type": "code",
   "execution_count": null,
   "id": "752c8cfa",
   "metadata": {},
   "outputs": [],
   "source": [
    "# Training models, models with sigma_s = 3, 25, and 90 degree are essential to reproduce the main result of the paper.\n",
    "# Alternatively, download models in https://wustl.app.box.com/file/964118053859?s=3xnt37fddxelvio2fztlawyieatf2agq\n",
    "# The trained/downloaded models will/should be in /core/model/\n",
    "\n",
    "imp_sig = [3.0, 25.0, 90.0]\n",
    "n_thread = 2; n_model = 2;\n",
    "for sig in imp_sig:\n",
    "    os.system('mpiexec -n ' + str(n_thread) + ' python train_cluster.py --sig_s ' + str(round(sig, 1)) + \\\n",
    "    ' --n_model ' + str(n_model))"
   ]
  },
  {
   "cell_type": "code",
   "execution_count": 3,
   "id": "7a5b9a5a",
   "metadata": {},
   "outputs": [
    {
     "data": {
      "text/plain": [
       "0"
      ]
     },
     "execution_count": 3,
     "metadata": {},
     "output_type": "execute_result"
    }
   ],
   "source": [
    "# Reproducing figure 1, takes 2 minites\n",
    "rule_name = \"color_reproduction_delay_unit\" # rule name (RNN architeture and task type) through out this paper\n",
    "model_dir = \"../core/model/model_25.0/color_reproduction_delay_unit/\" # source model\n",
    "gen_data = 'Y' # generate figure data\n",
    "sub_dir = \"/noise_delta\"\n",
    "\n",
    "os.system('python ./figs/gaussian_error_group.py ' + model_dir + ' ' + rule_name + ' ' + sub_dir + ' ' + gen_data) # gaussian noise error\n",
    "# see output figure in ./figs/fig_collect/gaussian_rnn.pdf\n",
    "os.system('python ./figs/report_dist.py ' + model_dir + ' ' + rule_name + ' ' + sub_dir + ' ' + gen_data) # report distribution. \\\n",
    "# see output figure in ./figs/fig_collect/report_rnn.pdf\n",
    "os.system('python ./figs/bias_around_common_group.py ' + model_dir + ' ' + rule_name + ' ' + sub_dir + ' ' + gen_data) # biased report. \\\n",
    "# see output figure in ./figs/fig_collect/unbias_rnn.pdf and ./figs/fig_collect/bias_rnn.pdf"
   ]
  },
  {
   "cell_type": "code",
   "execution_count": 26,
   "id": "b3c3390b",
   "metadata": {},
   "outputs": [
    {
     "data": {
      "text/plain": [
       "2"
      ]
     },
     "execution_count": 26,
     "metadata": {},
     "output_type": "execute_result"
    }
   ],
   "source": [
    "# Reproducing figure 2 a, b\n",
    "sub_dir=\"/model_0/noise_delta\" # pick the first model as an example model\n",
    "delay_len = 1000\n",
    "\n",
    "for model_name in ['90.0', '25.0', '3.0']: # uniform, biased, and strongly biased\n",
    "    model_dir = \"../core/model/model_\" + model_name + \"/color_reproduction_delay_unit/\"\n",
    "    # bump activity. see output figure in ./figs/fig_collect/bump_model_name.pdf\n",
    "    os.system('python ./figs/bump.py' + ' --model_dir ' + model_dir + ' --sub_dir ' + sub_dir + ' --prod_interval ' + str(delay_len) +\\\n",
    "             ' --file_label ' + model_name) \n",
    "    # 5 example neural activity. find output figure in ./figs/fig_collect/neural_activity_model_name.pdf\n",
    "    os.system('python ./figs/simple_fig.py' + ' --model_dir ' + model_dir + ' --sub_dir ' + sub_dir + ' --prod_interval ' + str(delay_len) +\\\n",
    "             ' --file_label ' + model_name)"
   ]
  },
  {
   "cell_type": "code",
   "execution_count": 16,
   "id": "185b5701",
   "metadata": {},
   "outputs": [
    {
     "data": {
      "text/plain": [
       "0"
      ]
     },
     "execution_count": 16,
     "metadata": {},
     "output_type": "execute_result"
    }
   ],
   "source": [
    "# Neural speed, figure 2 cde\n",
    "sub_dir=\"/noise_delta\"\n",
    "\n",
    "delay = 6000\n",
    "file_label = str(delay) + '_' + 'key_all'\n",
    "key_part = ['90.0', '25.0', '15.0', '3.0']\n",
    "\n",
    "os.system('python ./figs/neural_speed_more_prior.py ' + ' --prod_interval ' + str(delay) + ' --keys_part ' + ' '.join(key_part) \\\n",
    "          + ' --file_label ' + file_label)"
   ]
  },
  {
   "cell_type": "code",
   "execution_count": 5,
   "id": "c04cde9c",
   "metadata": {},
   "outputs": [
    {
     "data": {
      "text/plain": [
       "0"
      ]
     },
     "execution_count": 5,
     "metadata": {},
     "output_type": "execute_result"
    }
   ],
   "source": [
    "# Reproducing figure 3 a, b\n",
    "rule_name = \"color_reproduction_delay_unit\"\n",
    "model_dir = \"../core/model/model_25.0/color_reproduction_delay_unit/\" # source model\n",
    "gen_data = 'Y' # generate figure data\n",
    "sub_dir = \"/noise_delta\"\n",
    "\n",
    "# pca, see figure in ./figs/fig_collect/pca_explained.pdf\n",
    "os.system('python ./figs/pca_explained.py ' + model_dir + ' ' + rule_name + ' ' + sub_dir + ' ' + gen_data)\n",
    "os.system('python ./figs/manifold.py ' + model_dir + ' ' + rule_name + ' ' + sub_dir + ' ' + gen_data)"
   ]
  },
  {
   "cell_type": "code",
   "execution_count": 19,
   "id": "f107977f",
   "metadata": {},
   "outputs": [],
   "source": [
    "# Reproducing figure 3 c, d, e\n",
    "delay_len = 800\n",
    "sub_dir=\"/model_0/noise_delta\" # pick the first model as an example model\n",
    "\n",
    "for model_name in ['90.0', '25.0', '3.0']: # uniform, biased, and strongly biased\n",
    "    model_dir = \"../core/model/model_\" + model_name + \"/color_reproduction_delay_unit/\"\n",
    "    # fixpoint ring, fig. 4c. see output figure as traj_fix_xxx.pdf\n",
    "    os.system('python ./figs/fix_point_ring.py' + ' --model_dir ' + model_dir + ' --sub_dir ' + sub_dir + ' --prod_interval ' + \\\n",
    "               str(delay_len) + ' --file_label ' + model_name)\n",
    "    # decode velocity, fig. 4c. see output figure as decode_vel_plane.pdf\n",
    "    os.system('python ./figs/decode_vel_state.py' + ' --model_dir ' + model_dir + ' --sub_dir ' + sub_dir + ' --file_label ' + model_name)\n",
    "    # ./figs/fig_collect/combine_xxx.pdf\n",
    "    os.system('python ./figs/combine_state.py' + ' --model_dir ' + model_dir + ' --sub_dir ' + sub_dir + ' --file_label ' + model_name)"
   ]
  },
  {
   "cell_type": "code",
   "execution_count": 19,
   "id": "69a6793c",
   "metadata": {},
   "outputs": [
    {
     "data": {
      "text/plain": [
       "0"
      ]
     },
     "execution_count": 19,
     "metadata": {},
     "output_type": "execute_result"
    }
   ],
   "source": [
    "# Reproducing figure 4\n",
    "sub_dir=\"/model_0/noise_delta\" # pick the first model as an example model\n",
    "model_name = '25.0'\n",
    "model_dir = \"../core/model/model_\" + model_name + \"/color_reproduction_delay_unit/\"\n",
    "rule_name = \"color_reproduction_delay_unit\"\n",
    "delay_len = 6000\n",
    "gen_data='N'\n",
    "\n",
    "# bump activity for very long delay, see output in bumpxxx_long_delay.pdf\n",
    "os.system('python ./figs/bump.py' + ' --model_dir ' + model_dir + ' --sub_dir ' + sub_dir + ' --prod_interval ' + str(delay_len) +\\\n",
    "             ' --file_label ' + model_name + '_long_delay')\n",
    "# #The trajectory of the same trial, see output in ./figs/fig_collect/traj_fix_one_xxx.pdf\n",
    "os.system('python ./figs/fix_point_one_trial.py ' + model_dir + ' ' + rule_name + ' ' + sub_dir + ' ' + gen_data + \\\n",
    "          ' ./figs/fig_data/fixpoints_one.json ./figs/fig_collect/traj_fix_one')\n",
    "\n",
    "# fig 5b, see output ./figs/fig_collect/manifold_2d_3.0_delay_xxx.pdf'\n",
    "model_name = '3.0'\n",
    "model_dir = \"../core/model/model_\" + model_name + \"/color_reproduction_delay_unit/\"\n",
    "\n",
    "for delay_len in [60, 1000]:\n",
    "    os.system('python ./figs/manifold_2d.py' + ' --model_dir ' + model_dir + ' --sub_dir ' + sub_dir + ' --prod_interval ' + \\\n",
    "              str(delay_len) + ' --file_label ' + model_name + '_delay_' + str(delay_len))"
   ]
  },
  {
   "cell_type": "code",
   "execution_count": null,
   "id": "80730804",
   "metadata": {},
   "outputs": [],
   "source": [
    "# reproducing figure 5, searching fix points for all RNNs (fig 6c) can take one hour or more\n",
    "sub_dir = 'model_0/noise_delta'\n",
    "for model_name in ['90.0', '25.0', '3.0']:\n",
    "    model_dir = \"../core/model/model_\" + model_name + \"/color_reproduction_delay_unit/\"\n",
    "    # figure 6 a, b, find figures in angle_xxx_density.pdf and angle_xxx_function.pdf\n",
    "    os.system('python ./figs/encode_space.py ' + model_dir + ' ' + rule_name + ' ' + sub_dir + ' ' + gen_data + ' ' + \\\n",
    "          \"./figs/fig_collect/angle_\" + model_name)\n",
    "    # figure 6c, distribution of attractors, find output @ att_dis_xxx.pdf\n",
    "    os.system('python ./figs/fix_point_batch.py' + ' --model_dir ' + model_dir + ' --file_label ' + model_name)\n",
    "    \n",
    "    ## or using mpi4py to search fixpoints\n",
    "    #os.system('mpiexec -n 2 python ./figs/fix_point_batch_cluster.py' + ' --model_dir ' + model_dir + ' --file_label ' + model_name)"
   ]
  },
  {
   "cell_type": "code",
   "execution_count": 15,
   "id": "b4eef03d",
   "metadata": {},
   "outputs": [
    {
     "data": {
      "text/plain": [
       "0"
      ]
     },
     "execution_count": 15,
     "metadata": {},
     "output_type": "execute_result"
    }
   ],
   "source": [
    "# Figure 6a, find figure as rnn_ddm_sim_25.0.pdf\n",
    "model_name = '25.0'\n",
    "model_dir = \"../core/model/model_\" + model_name + \"/color_reproduction_delay_unit/\"\n",
    "os.system('python ./figs/rnn_ddm.py' + ' --model_dir ' + model_dir + ' --file_label ' + model_name)\n",
    "\n",
    "#figure 6c, find figure as rnn_bay_drift_xxx.pdf\n",
    "for model_name in ['90.0', '25.0', '12.5']:\n",
    "    model_dir = \"../core/model/model_\" + model_name + \"/color_reproduction_delay_unit/\"\n",
    "    os.system('mpiexec -n 2 python ./figs/rnn_noise_bay_drift.py' + ' --model_dir ' + model_dir + ' --file_label ' + model_name + \\\n",
    "              ' --sigma_s ' + model_name)\n",
    "    \n",
    "# figure 6d, can take a few hours\n",
    "keys = ['90.0', '30.0', '27.5', '25.0', '22.5', '20.0', '17.5', '15.0', '12.5']\n",
    "for model_name in keys: # generate data\n",
    "    model_dir = \"../core/model/model_\" + model_name + \"/color_reproduction_delay_unit/\"\n",
    "    os.system('mpiexec -n 2 python ./figs/rnn_noise_bay_drift.py' + ' --model_dir ' + model_dir + ' --file_label ' + model_name + \\\n",
    "              ' --sigma_s ' + model_name)\n",
    "# calculate mse, find figures in rnn_bay_drift_.pdf and ./figs/fig_collect/bay_drift_xxx.pdf\n",
    "os.system('python ./figs/mse_drift.py' + ' --keys ' + ' '.join(keys))"
   ]
  },
  {
   "cell_type": "code",
   "execution_count": null,
   "id": "06df1cf6",
   "metadata": {},
   "outputs": [],
   "source": []
  }
 ],
 "metadata": {
  "kernelspec": {
   "display_name": "Python [conda env:working_memory]",
   "language": "python",
   "name": "conda-env-working_memory-py"
  },
  "language_info": {
   "codemirror_mode": {
    "name": "ipython",
    "version": 3
   },
   "file_extension": ".py",
   "mimetype": "text/x-python",
   "name": "python",
   "nbconvert_exporter": "python",
   "pygments_lexer": "ipython3",
   "version": "3.8.8"
  }
 },
 "nbformat": 4,
 "nbformat_minor": 5
}
