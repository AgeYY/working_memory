{
 "cells": [
  {
   "cell_type": "code",
   "execution_count": 1,
   "id": "0ce8d3e3",
   "metadata": {},
   "outputs": [],
   "source": [
    "import os\n",
    "\n",
    "rule_name = \"color_reproduction_delay_unit\" # we fix this rule name (RNN architeture and task type) through out this paper"
   ]
  },
  {
   "cell_type": "code",
   "execution_count": 16,
   "id": "17232427",
   "metadata": {},
   "outputs": [],
   "source": [
    "# tuning curves\n",
    "\n",
    "gen_data = 'Y' # generate figure data\n",
    "sub_dir = \"model_0/noise_delta\"\n",
    "\n",
    "for model_name in ['90.0', '25.0', '12.5', '3.0']: # make sure these models are in the model_dir below\n",
    "    model_dir = \"../core/model/model_\" + model_name + \"/color_reproduction_delay_unit/\"\n",
    "    os.system('python ./figs/tuning.py ' + model_dir + ' ' + rule_name + ' ' + sub_dir + ' ' + gen_data + ' ' + model_name)"
   ]
  },
  {
   "cell_type": "code",
   "execution_count": 2,
   "id": "5b69edb3",
   "metadata": {},
   "outputs": [
    {
     "data": {
      "text/plain": [
       "0"
      ]
     },
     "execution_count": 2,
     "metadata": {},
     "output_type": "execute_result"
    }
   ],
   "source": [
    "# 3d manifold with noise, \n",
    "gen_data = 'Y' # generate figure data\n",
    "model_name = '25.0'\n",
    "model_dir = \"../core/model/model_\" + model_name + \"/color_reproduction_delay_unit/\"\n",
    "sub_dir = \"model_0/noise_delta\"\n",
    "\n",
    "os.system('python ./figs/manifold_noise.py ' + model_dir + ' ' + rule_name + ' ' + sub_dir + ' ' + gen_data + ' ' + model_name)\n",
    "\n",
    "# 3d manifold for 3 degree distribution"
   ]
  },
  {
   "cell_type": "code",
   "execution_count": 13,
   "id": "084bb50e",
   "metadata": {},
   "outputs": [
    {
     "data": {
      "text/plain": [
       "0"
      ]
     },
     "execution_count": 13,
     "metadata": {},
     "output_type": "execute_result"
    }
   ],
   "source": [
    "# calculate the eigenvalues\n",
    "os.system('mpiexec -n 2 python ./figs/eigen_cluster.py' + ' --gen_data')"
   ]
  },
  {
   "cell_type": "code",
   "execution_count": null,
   "id": "abf374ec",
   "metadata": {},
   "outputs": [],
   "source": []
  }
 ],
 "metadata": {
  "kernelspec": {
   "display_name": "Python [conda env:working_memory]",
   "language": "python",
   "name": "conda-env-working_memory-py"
  },
  "language_info": {
   "codemirror_mode": {
    "name": "ipython",
    "version": 3
   },
   "file_extension": ".py",
   "mimetype": "text/x-python",
   "name": "python",
   "nbconvert_exporter": "python",
   "pygments_lexer": "ipython3",
   "version": "3.8.8"
  }
 },
 "nbformat": 4,
 "nbformat_minor": 5
}
