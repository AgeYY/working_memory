{
 "cells": [
  {
   "cell_type": "code",
   "execution_count": 1,
   "id": "b9fc3e10",
   "metadata": {},
   "outputs": [],
   "source": [
    "import os"
   ]
  },
  {
   "cell_type": "code",
   "execution_count": 18,
   "id": "2d04a1e0",
   "metadata": {},
   "outputs": [
    {
     "data": {
      "text/plain": [
       "1"
      ]
     },
     "execution_count": 18,
     "metadata": {},
     "output_type": "execute_result"
    }
   ],
   "source": [
    "# Figure 1D\n",
    "os.system('python ./figs/memory_error_uniform_bias.py')"
   ]
  },
  {
   "cell_type": "code",
   "execution_count": 17,
   "id": "106fb244",
   "metadata": {},
   "outputs": [
    {
     "name": "stdout",
     "output_type": "stream",
     "text": [
      "C:\\Users\\Wessel Lab\\work\\working_memory\\bin\n",
      "1\n"
     ]
    }
   ],
   "source": [
    "# Figure 1E\n",
    "os.system('python ./figs/single_bias_error_dis.py')"
   ]
  },
  {
   "cell_type": "code",
   "execution_count": null,
   "id": "28092f91",
   "metadata": {},
   "outputs": [],
   "source": []
  }
 ],
 "metadata": {
  "kernelspec": {
   "display_name": "Python [conda env:working_memory]",
   "language": "python",
   "name": "conda-env-working_memory-py"
  },
  "language_info": {
   "codemirror_mode": {
    "name": "ipython",
    "version": 3
   },
   "file_extension": ".py",
   "mimetype": "text/x-python",
   "name": "python",
   "nbconvert_exporter": "python",
   "pygments_lexer": "ipython3",
   "version": "3.8.8"
  }
 },
 "nbformat": 4,
 "nbformat_minor": 5
}
